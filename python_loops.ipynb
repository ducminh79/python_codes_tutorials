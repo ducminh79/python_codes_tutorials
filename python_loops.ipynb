{
 "cells": [
  {
   "cell_type": "markdown",
   "metadata": {},
   "source": [
    "## Basic For Loop\n",
    "\n",
    "https://www.dataquest.io/blog/python-for-loop-tutorial/\n",
    "\n",
    "What Are For Loops?\n",
    "\n",
    "In the context of most data science work, Python for loops are used to loop through an iterable object (like a list, tuple, set, etc.) and perform the same action for each entry. For example, a for loop would allow us to iterate through a list, performing the same action on each item in the list.\n",
    "\n",
    "(An interable object, by the way, is any Python object we can iterate through, or “loop” through, and return a single element at a time. Lists, for example, are iterable and return a single list entry at a time, in the order entries are listed. Strings are iterable and return one character at a time, in the order the characters appear. Etc.)"
   ]
  },
  {
   "cell_type": "code",
   "execution_count": 1,
   "metadata": {},
   "outputs": [
    {
     "name": "stdout",
     "output_type": "stream",
     "text": [
      "Lily\n",
      "Brad\n",
      "Fatima\n",
      "Zining\n"
     ]
    }
   ],
   "source": [
    "our_list = ['Lily', 'Brad', 'Fatima', 'Zining']\n",
    "for name in our_list:\n",
    "    print(name)"
   ]
  },
  {
   "cell_type": "code",
   "execution_count": 2,
   "metadata": {},
   "outputs": [
    {
     "name": "stdout",
     "output_type": "stream",
     "text": [
      "L\n",
      "i\n",
      "l\n",
      "y\n"
     ]
    }
   ],
   "source": [
    "for letter in 'Lily':\n",
    "    print(letter)"
   ]
  },
  {
   "cell_type": "markdown",
   "metadata": {},
   "source": [
    "\n",
    "\n",
    "## Using For Loops with Lists of Lists\n",
    "In actual data analysis work, it’s unlikely that we’re going to be working with short, simple lists like the one above, though. Generally, we’ll have to work with data sets in a table format, with multiple rows and columns. This kind of data can be stored in Python as a list of lists, where each row of a table is stored as a list within the list of lists, and we can use for loops to iterate through these as well."
   ]
  },
  {
   "cell_type": "code",
   "execution_count": 3,
   "metadata": {},
   "outputs": [],
   "source": [
    "ev_data =[['vehicle', 'range', 'price'],\n",
    "          ['Tesla','310','49900'],\n",
    "          ['Hyundai','124','30315'],\n",
    "          ['Chevy Bolt','238','36620']]"
   ]
  },
  {
   "cell_type": "code",
   "execution_count": 4,
   "metadata": {},
   "outputs": [
    {
     "name": "stdout",
     "output_type": "stream",
     "text": [
      "[['vehicle', 'range', 'price'], ['Tesla', '310', '49900'], ['Hyundai', '124', '30315'], ['Chevy Bolt', '238', '36620']]\n"
     ]
    }
   ],
   "source": [
    "print(ev_data)"
   ]
  },
  {
   "cell_type": "code",
   "execution_count": 5,
   "metadata": {},
   "outputs": [
    {
     "name": "stdout",
     "output_type": "stream",
     "text": [
      "['vehicle', 'range', 'price']\n"
     ]
    }
   ],
   "source": [
    "print(ev_data[0])"
   ]
  },
  {
   "cell_type": "code",
   "execution_count": 6,
   "metadata": {},
   "outputs": [
    {
     "name": "stdout",
     "output_type": "stream",
     "text": [
      "vehicle\n"
     ]
    }
   ],
   "source": [
    "print(ev_data[0][0])"
   ]
  },
  {
   "cell_type": "code",
   "execution_count": 7,
   "metadata": {},
   "outputs": [
    {
     "name": "stdout",
     "output_type": "stream",
     "text": [
      "['Tesla', '310', '49900']\n",
      "['Hyundai', '124', '30315']\n",
      "['Chevy Bolt', '238', '36620']\n"
     ]
    }
   ],
   "source": [
    "for row in ev_data[1:]:\n",
    "    print(row)"
   ]
  },
  {
   "cell_type": "code",
   "execution_count": 8,
   "metadata": {},
   "outputs": [
    {
     "name": "stdout",
     "output_type": "stream",
     "text": [
      "\n",
      "Before conversion to integer\n",
      "['Tesla', '310', '49900']\n",
      "After conversion to integer\n",
      "['Tesla', 310, '49900']\n",
      "\n",
      "Before conversion to integer\n",
      "['Hyundai', '124', '30315']\n",
      "After conversion to integer\n",
      "['Hyundai', 124, '30315']\n",
      "\n",
      "Before conversion to integer\n",
      "['Chevy Bolt', '238', '36620']\n",
      "After conversion to integer\n",
      "['Chevy Bolt', 238, '36620']\n"
     ]
    }
   ],
   "source": [
    "ev_conv = ev_data \n",
    "for row in ev_conv[1:]:\n",
    "    print('\\nBefore conversion to integer')\n",
    "    print(row)\n",
    "    ev_range = row[1]\n",
    "    print('After conversion to integer')\n",
    "    row[1] = int(ev_range)\n",
    "    print(row)"
   ]
  },
  {
   "cell_type": "code",
   "execution_count": 9,
   "metadata": {},
   "outputs": [
    {
     "name": "stdout",
     "output_type": "stream",
     "text": [
      "[['vehicle', 'range', 'price'], ['Tesla', 310, '49900'], ['Hyundai', 124, '30315'], ['Chevy Bolt', 238, '36620']]\n"
     ]
    }
   ],
   "source": [
    "# note that ev_data is changed to new value also?????\n",
    "print(ev_data)"
   ]
  },
  {
   "cell_type": "code",
   "execution_count": 10,
   "metadata": {},
   "outputs": [
    {
     "name": "stdout",
     "output_type": "stream",
     "text": [
      "Total range =  672\n",
      "Average range =  224.0\n"
     ]
    }
   ],
   "source": [
    "sum = 0\n",
    "for row in ev_conv[1:]:\n",
    "    sum += row[1]\n",
    "\n",
    "print('Total range = ', sum)\n",
    "print('Average range = ', sum/(len(ev_conv)-1))"
   ]
  },
  {
   "cell_type": "code",
   "execution_count": 11,
   "metadata": {},
   "outputs": [
    {
     "name": "stdout",
     "output_type": "stream",
     "text": [
      "[['Tesla', 310, '49900'], ['Chevy Bolt', 238, '36620']]\n"
     ]
    }
   ],
   "source": [
    "# creat long rang list of cars\n",
    "long_range_list = []\n",
    "for row in ev_conv[1:]:\n",
    "    if row[1]>200:\n",
    "        long_range_list.append(row)\n",
    "        \n",
    "print(long_range_list)"
   ]
  },
  {
   "cell_type": "code",
   "execution_count": 12,
   "metadata": {},
   "outputs": [
    {
     "name": "stdout",
     "output_type": "stream",
     "text": [
      "5\n",
      "6\n",
      "7\n",
      "8\n"
     ]
    }
   ],
   "source": [
    "# Range\n",
    "for x in range(5,9):\n",
    "    print(x)"
   ]
  },
  {
   "cell_type": "code",
   "execution_count": 13,
   "metadata": {},
   "outputs": [
    {
     "name": "stdout",
     "output_type": "stream",
     "text": [
      "0\n",
      "1\n",
      "2\n"
     ]
    }
   ],
   "source": [
    "for x in range(3):\n",
    "    print(x)"
   ]
  },
  {
   "cell_type": "markdown",
   "metadata": {},
   "source": [
    "## Break\n",
    "By default, a Python for loop will loop through each possible iteration of the interable object you’ve assigned it. Normally when we’re using a for loop, that’s fine, because we want to perform the same action on each item in our list (for example).\n",
    "\n",
    "Sometimes, though, we may want to stop your loop if a certain condition is met. In that circumstance, the break statement is useful. When used with an if statement inside of a for loop, break allows us to break out of that loop before its conclusion."
   ]
  },
  {
   "cell_type": "code",
   "execution_count": 14,
   "metadata": {},
   "outputs": [
    {
     "name": "stdout",
     "output_type": "stream",
     "text": [
      "[['Tesla', 310, '49900']]\n"
     ]
    }
   ],
   "source": [
    "long_range_car_list = []    # creating our empty long-range car list again\n",
    "\n",
    "for row in ev_data[1:]:     # iterate through ev_data as before looking for cars with a range > 200\n",
    "    ev_range = row[1]\n",
    "    if ev_range > 200:\n",
    "        long_range_car_list.append(row)\n",
    "    if 'Tesla' in row[0]:   # but if 'Tesla' appears in the vehicle column, end the loop\n",
    "            break\n",
    "\n",
    "print(long_range_car_list)"
   ]
  },
  {
   "cell_type": "markdown",
   "metadata": {},
   "source": [
    "## Continue\n",
    "When we’re looping through an iterable object like a list, we might also encounter situations where we’d like to skip a particular row or rows. For simple situations like skipping a header row, we can use list slicing, but if we want to skip rows based on more complex conditions, this quickly becomes impractical. Instead, we can use the continue statement to skip a single iteration (“loop”) of a for loop and move to the next.\n",
    "\n",
    "When Python sees continue while executing a for loop on a list, for example, it will stop at that point and move on to the next item on the list. Any code that comes below the continue will not be executed."
   ]
  },
  {
   "cell_type": "code",
   "execution_count": 15,
   "metadata": {},
   "outputs": [
    {
     "name": "stdout",
     "output_type": "stream",
     "text": [
      "[['Hyundai', 124, '30315']]\n"
     ]
    }
   ],
   "source": [
    "short_range_car_list = []               # creating our empty short-range car list\n",
    "\n",
    "for row in ev_data[1:]:                 # iterate through ev_data as before\n",
    "    ev_range = row[1]\n",
    "    if ev_range > 200:                  #  if the car has a range of > 200\n",
    "        continue                        # end the loop here; do not execute the code below, continue to the next row\n",
    "    short_range_car_list.append(row)    # append the row to our short-range car list\n",
    "\n",
    "\n",
    "print(short_range_car_list)"
   ]
  }
 ],
 "metadata": {
  "kernelspec": {
   "display_name": "Python 3",
   "language": "python",
   "name": "python3"
  },
  "language_info": {
   "codemirror_mode": {
    "name": "ipython",
    "version": 3
   },
   "file_extension": ".py",
   "mimetype": "text/x-python",
   "name": "python",
   "nbconvert_exporter": "python",
   "pygments_lexer": "ipython3",
   "version": "3.7.4"
  }
 },
 "nbformat": 4,
 "nbformat_minor": 2
}
